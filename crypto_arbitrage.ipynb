{
 "cells": [
  {
   "cell_type": "markdown",
   "metadata": {},
   "source": [
    "## Crypto Arbitrage\n",
    "\n",
    "In this Challenge, you'll take on the role of an analyst at a high-tech investment firm. The vice president (VP) of your department is considering arbitrage opportunities in Bitcoin and other cryptocurrencies. As Bitcoin trades on markets across the globe, can you capitalize on simultaneous price dislocations in those markets by using the powers of Pandas?\n",
    "\n",
    "For this assignment, you’ll sort through historical trade data for Bitcoin on two exchanges: Bitstamp and Coinbase. Your task is to apply the three phases of financial analysis to determine if any arbitrage opportunities exist for Bitcoin.\n",
    "\n",
    "This aspect of the Challenge will consist of 3 phases.\n",
    "\n",
    "1. Collect the data.\n",
    "\n",
    "2. Prepare the data.\n",
    "\n",
    "3. Analyze the data. \n",
    "\n"
   ]
  },
  {
   "cell_type": "markdown",
   "metadata": {},
   "source": [
    "###  Import the required libraries and dependencies."
   ]
  },
  {
   "cell_type": "code",
   "execution_count": null,
   "metadata": {},
   "outputs": [],
   "source": [
    "import pandas as pd\n",
    "from pathlib import Path\n",
    "import numpy as np\n",
    "%matplotlib inline"
   ]
  },
  {
   "cell_type": "markdown",
   "metadata": {},
   "source": [
    "## Collect the Data\n",
    "\n",
    "To collect the data that you’ll need, complete the following steps:\n",
    "\n",
    "Instructions. \n",
    "\n",
    "1. Using the Pandas `read_csv` function and the `Path` module, import the data from `bitstamp.csv` file, and create a DataFrame called `bitstamp`. Set the DatetimeIndex as the Timestamp column, and be sure to parse and format the dates.\n",
    "\n",
    "2. Use the `head` (and/or the `tail`) function to confirm that Pandas properly imported the data.\n",
    "\n",
    "3. Repeat Steps 1 and 2 for `coinbase.csv` file."
   ]
  },
  {
   "cell_type": "markdown",
   "metadata": {},
   "source": [
    "### Step 1: Using the Pandas `read_csv` function and the `Path` module, import the data from `bitstamp.csv` file, and create a DataFrame called `bitstamp`. Set the DatetimeIndex as the Timestamp column, and be sure to parse and format the dates."
   ]
  },
  {
   "cell_type": "code",
   "execution_count": null,
   "metadata": {},
   "outputs": [],
   "source": [
    "# Read in the CSV file called \"bitstamp.csv\" using the Path module. \n",
    "# The CSV file is located in the Resources folder.\n",
    "# Set the index to the column \"Date\"\n",
    "# Set the parse_dates and infer_datetime_format parameters\n",
    "\n",
    "csvpath = Path(\"Resources/bitstamp.csv\")\n",
    "bitstamp = pd.read_csv(csvpath, index_col=\"Timestamp\", parse_dates=True, infer_datetime_format=True)"
   ]
  },
  {
   "cell_type": "markdown",
   "metadata": {},
   "source": [
    "### Step 2: Use the `head` (and/or the `tail`) function to confirm that Pandas properly imported the data."
   ]
  },
  {
   "cell_type": "code",
   "execution_count": null,
   "metadata": {},
   "outputs": [],
   "source": [
    "# Use the head (and/or tail) function to confirm that the data was imported properly.\n",
    "\n",
    "display(bitstamp.head())\n",
    "display(bitstamp.tail())"
   ]
  },
  {
   "cell_type": "markdown",
   "metadata": {},
   "source": [
    "### Step 3: Repeat Steps 1 and 2 for `coinbase.csv` file."
   ]
  },
  {
   "cell_type": "code",
   "execution_count": null,
   "metadata": {},
   "outputs": [],
   "source": [
    "# Read in the CSV file called \"coinbase.csv\" using the Path module. \n",
    "# The CSV file is located in the Resources folder.\n",
    "# Set the index to the column \"Timestamp\"\n",
    "# Set the parse_dates and infer_datetime_format parameters\n",
    "\n",
    "csvpath = Path(\"Resources/coinbase.csv\")\n",
    "coinbase = pd.read_csv(csvpath, index_col=\"Timestamp\", parse_dates=True, infer_datetime_format=True)"
   ]
  },
  {
   "cell_type": "code",
   "execution_count": null,
   "metadata": {},
   "outputs": [],
   "source": [
    "# Use the head (and/or tail) function to confirm that the data was imported properly.\n",
    "\n",
    "display(coinbase.head())\n",
    "display(coinbase.tail())"
   ]
  },
  {
   "cell_type": "markdown",
   "metadata": {},
   "source": [
    "## Prepare the Data\n",
    "\n",
    "To prepare and clean your data for analysis, complete the following steps:\n",
    "\n",
    "1. For the bitstamp DataFrame, replace or drop all `NaN`, or missing, values in the DataFrame.\n",
    "\n",
    "2. Use the `str.replace` function to remove the dollar signs ($) from the values in the Close column.\n",
    "\n",
    "3. Convert the data type of the Close column to a `float`.\n",
    "\n",
    "4. Review the data for duplicated values, and drop them if necessary.\n",
    "\n",
    "5. Repeat Steps 1–4 for the coinbase DataFrame."
   ]
  },
  {
   "cell_type": "markdown",
   "metadata": {},
   "source": [
    "### Step 1: For the bitstamp DataFrame, replace or drop all `NaN`, or missing, values in the DataFrame."
   ]
  },
  {
   "cell_type": "code",
   "execution_count": null,
   "metadata": {},
   "outputs": [],
   "source": [
    "# For the bitstamp DataFrame, replace or drop all NaNs or missing values in the DataFrame\n",
    "\n",
    "bitstamp.dropna(inplace=True)"
   ]
  },
  {
   "cell_type": "markdown",
   "metadata": {},
   "source": [
    "### Step 2: Use the `str.replace` function to remove the dollar signs ($) from the values in the Close column."
   ]
  },
  {
   "cell_type": "code",
   "execution_count": null,
   "metadata": {},
   "outputs": [],
   "source": [
    "# Use the str.replace function to remove the dollar sign, $\n",
    "\n",
    "bitstamp['Close'] = bitstamp['Close'].str.replace('$', '', regex=False)\n",
    "display(bitstamp.head())"
   ]
  },
  {
   "cell_type": "markdown",
   "metadata": {},
   "source": [
    "### Step 3: Convert the data type of the Close column to a `float`."
   ]
  },
  {
   "cell_type": "code",
   "execution_count": null,
   "metadata": {},
   "outputs": [],
   "source": [
    "# Convert the Close data type to a float\n",
    "\n",
    "bitstamp['Close'] = bitstamp['Close'].astype('float')\n",
    "display(bitstamp.dtypes)"
   ]
  },
  {
   "cell_type": "markdown",
   "metadata": {},
   "source": [
    "### Step 4: Review the data for duplicated values, and drop them if necessary."
   ]
  },
  {
   "cell_type": "code",
   "execution_count": null,
   "metadata": {},
   "outputs": [],
   "source": [
    "# Review the data for duplicate values, and drop them if necessary\n",
    "\n",
    "if bitstamp.duplicated().sum() != 0:\n",
    "    display(bitstamp.duplicated())\n",
    "    print(\"Duplicate values deleted.\")\n",
    "    bitstamp.drop_duplicates(inplace=True)\n",
    "else:\n",
    "    print(\"No duplicate values found.\")"
   ]
  },
  {
   "cell_type": "markdown",
   "metadata": {},
   "source": [
    "### Step 5: Repeat Steps 1–4 for the coinbase DataFrame."
   ]
  },
  {
   "cell_type": "code",
   "execution_count": null,
   "metadata": {},
   "outputs": [],
   "source": [
    "# Repeat Steps 1–4 for the coinbase DataFrame\n",
    "\n",
    "coinbase.dropna(inplace=True)\n",
    "coinbase['Close'] = coinbase['Close'].str.replace('$', '', regex=False).astype('float')\n",
    "display(coinbase.head())\n",
    "\n",
    "\n",
    "# Use a conditional (if statement) to determine if the number of duplicated values is non-zero.\n",
    "\n",
    "if coinbase.duplicated().sum() != 0:\n",
    "    display(coinbase.duplicated())\n",
    "    print(\"Duplicate values deleted.\")\n",
    "    coinbase.drop_duplicates(inplace=True)\n",
    "else:\n",
    "    print(\"No duplicate values found.\")"
   ]
  },
  {
   "cell_type": "markdown",
   "metadata": {},
   "source": [
    "## Analyze the Data\n",
    "\n",
    "Your analysis consists of the following tasks: \n",
    "\n",
    "1. Choose the columns of data on which to focus your analysis.\n",
    "\n",
    "2. Get the summary statistics and plot the data.\n",
    "\n",
    "3. Focus your analysis on specific dates.\n",
    "\n",
    "4. Calculate the arbitrage profits."
   ]
  },
  {
   "cell_type": "markdown",
   "metadata": {},
   "source": [
    "### Step 1: Choose columns of data on which to focus your analysis.\n",
    "\n",
    "Select the data you want to analyze. Use `loc` or `iloc` to select the following columns of data for both the bitstamp and coinbase DataFrames:\n",
    "\n",
    "* Timestamp (index)\n",
    "\n",
    "* Close\n"
   ]
  },
  {
   "cell_type": "code",
   "execution_count": null,
   "metadata": {},
   "outputs": [],
   "source": [
    "# Use loc or iloc to select `Timestamp (the index)` and `Close` from bitstamp DataFrame\n",
    "\n",
    "bitstamp_sliced = bitstamp.loc[:, 'Close']\n",
    "\n",
    "# Review the first five rows of the DataFrame\n",
    "\n",
    "bitstamp_sliced.head()"
   ]
  },
  {
   "cell_type": "code",
   "execution_count": null,
   "metadata": {},
   "outputs": [],
   "source": [
    "# Use loc or iloc to select `Timestamp (the index)` and `Close` from coinbase DataFrame\n",
    "\n",
    "coinbase_sliced = coinbase.loc[:, 'Close']\n",
    "\n",
    "# Review the first five rows of the DataFrame\n",
    "\n",
    "coinbase_sliced.head()"
   ]
  },
  {
   "cell_type": "markdown",
   "metadata": {},
   "source": [
    "### Step 2: Get summary statistics and plot the data.\n",
    "\n",
    "Sort through the time series data associated with the bitstamp and coinbase DataFrames to identify potential arbitrage opportunities. To do so, complete the following steps:\n",
    "\n",
    "1. Generate the summary statistics for each DataFrame by using the `describe` function.\n",
    "\n",
    "2. For each DataFrame, create a line plot for the full period of time in the dataset. Be sure to tailor the figure size, title, and color to each visualization.\n",
    "\n",
    "3. In one plot, overlay the visualizations that you created in Step 2 for bitstamp and coinbase. Be sure to adjust the legend and title for this new visualization.\n",
    "\n",
    "4. Using the `loc` and `plot` functions, plot the price action of the assets on each exchange for different dates and times. Your goal is to evaluate how the spread between the two exchanges changed across the time period that the datasets define. Did the degree of spread change as time progressed?"
   ]
  },
  {
   "cell_type": "code",
   "execution_count": null,
   "metadata": {},
   "outputs": [],
   "source": [
    "# Generate the summary statistics for the bitstamp DataFrame\n",
    "\n",
    "bitstamp.describe(include='all')"
   ]
  },
  {
   "cell_type": "code",
   "execution_count": null,
   "metadata": {},
   "outputs": [],
   "source": [
    "# Generate the summary statistics for the coinbase DataFrame\n",
    "\n",
    "coinbase.describe(include='all')"
   ]
  },
  {
   "cell_type": "code",
   "execution_count": null,
   "metadata": {},
   "outputs": [],
   "source": [
    "# Create a line plot for the bitstamp DataFrame for the full length of time in the dataset \n",
    "# Be sure that the figure size, title, and color are tailored to each visualization\n",
    "\n",
    "bitstamp_sliced.plot(figsize=(14,7), title=\"Bitstamp Close\", color=\"red\")"
   ]
  },
  {
   "cell_type": "code",
   "execution_count": null,
   "metadata": {},
   "outputs": [],
   "source": [
    "# Create a line plot for the coinbase DataFrame for the full length of time in the dataset \n",
    "# Be sure that the figure size, title, and color are tailored to each visualization\n",
    "\n",
    "coinbase_sliced.plot(figsize=(14,7), title=\"Coinbase Close\", color=\"blue\")"
   ]
  },
  {
   "cell_type": "code",
   "execution_count": null,
   "metadata": {},
   "outputs": [],
   "source": [
    "# Overlay the visualizations for the bitstamp and coinbase DataFrames in one plot\n",
    "# The plot should visualize the prices over the full lenth of the dataset\n",
    "# Be sure to include the parameters: legend, figure size, title, and color and label\n",
    "\n",
    "bitstamp_sliced.plot(figsize=(14,7), title=\"Bitstamp & Coinbase Close\", color=\"red\", legend=True, label=\"Bitstamp\")\n",
    "coinbase_sliced.plot(figsize=(14,7), color=\"blue\", legend=True, label=\"Coinbase\")"
   ]
  },
  {
   "cell_type": "code",
   "execution_count": null,
   "metadata": {},
   "outputs": [],
   "source": [
    "# Using the loc and plot functions, create an overlay plot that visualizes \n",
    "# the price action of both DataFrames for a one month period early in the dataset\n",
    "# Be sure to include the parameters: legend, figure size, title, and color and label\n",
    "\n",
    "start_date = \"2018-01-01\"\n",
    "end_date = \"2018-01-31\"\n",
    "title = f\"Closing Prices from {start_date} to {end_date}\"\n",
    "bitstamp_sliced.loc[start_date:end_date].plot(figsize=(14,7), title=title, color=\"red\", legend=True, label=\"Bitstamp\")\n",
    "coinbase_sliced.loc[start_date:end_date].plot(figsize=(14,7), color=\"blue\", legend=True, label=\"Coinbase\")"
   ]
  },
  {
   "cell_type": "code",
   "execution_count": null,
   "metadata": {},
   "outputs": [],
   "source": [
    "# Using the loc and plot functions, create an overlay plot that visualizes \n",
    "# the price action of both DataFrames for a one month period later in the dataset\n",
    "# Be sure to include the parameters: legend, figure size, title, and color and label\n",
    "#  \n",
    "start_date = \"2018-02-01\"\n",
    "end_date = \"2018-02-28\"\n",
    "title = f\"Closing Prices from {start_date} to {end_date}\"\n",
    "bitstamp_sliced.loc[start_date:end_date].plot(figsize=(14,7), title=title, color=\"red\", legend=True, label=\"Bitstamp\")\n",
    "coinbase_sliced.loc[start_date:end_date].plot(figsize=(14,7), color=\"blue\", legend=True, label=\"Coinbase\")"
   ]
  },
  {
   "cell_type": "markdown",
   "metadata": {},
   "source": [
    "**Question** Based on the visualizations of the different time periods, has the degree of spread change as time progressed?\n",
    "\n",
    "**Answer** Based on the charts, the data shows there is a greater spread towards the beginning of the dataset, but progressively decreases over time."
   ]
  },
  {
   "cell_type": "markdown",
   "metadata": {},
   "source": [
    "### Step 3: Focus Your Analysis on Specific Dates\n",
    "\n",
    "Focus your analysis on specific dates by completing the following steps:\n",
    "\n",
    "1. Select three dates to evaluate for arbitrage profitability. Choose one date that’s early in the dataset, one from the middle of the dataset, and one from the later part of the time period.\n",
    "\n",
    "2. For each of the three dates, generate the summary statistics and then create a box plot. This big-picture view is meant to help you gain a better understanding of the data before you perform your arbitrage calculations. As you compare the data, what conclusions can you draw?"
   ]
  },
  {
   "cell_type": "code",
   "execution_count": null,
   "metadata": {},
   "outputs": [],
   "source": [
    "# Create an overlay plot that visualizes the two dataframes over a period of one day early in the dataset. \n",
    "# Be sure that the plots include the parameters `legend`, `figsize`, `title`, `color` and `label`\n",
    "#  \n",
    "early_start_date = \"2018-01-28\"\n",
    "early_end_date = \"2018-01-28\"\n",
    "title = f\"Closing Prices on {early_start_date}\"\n",
    "\n",
    "bitstamp_early_date = bitstamp_sliced.loc[early_start_date:early_end_date]\n",
    "bitstamp_early_date.plot(figsize=(14,7), title=title, color=\"red\", legend=True, label=\"Bitstamp\")\n",
    "\n",
    "coinbase_early_date = coinbase_sliced.loc[early_start_date:early_end_date]\n",
    "coinbase_early_date.plot(figsize=(14,7), color=\"blue\", legend=True, label=\"Coinbase\")"
   ]
  },
  {
   "cell_type": "code",
   "execution_count": null,
   "metadata": {
    "tags": []
   },
   "outputs": [],
   "source": [
    "# Using the early date that you have selected, calculate the arbitrage spread \n",
    "# by subtracting the bitstamp lower closing prices from the coinbase higher closing prices\n",
    "\n",
    "arbitrage_spread_early = bitstamp_early_date - coinbase_early_date\n",
    "\n",
    "# Generate summary statistics for the early DataFrame\n",
    "\n",
    "arbitrage_spread_early.describe()"
   ]
  },
  {
   "cell_type": "code",
   "execution_count": null,
   "metadata": {},
   "outputs": [],
   "source": [
    "# Visualize the arbitrage spread from early in the dataset in a box plot\n",
    "\n",
    "title = f\"Arbitrage Spread {early_start_date}\"\n",
    "arbitrage_spread_early.plot(kind='box', title=title)"
   ]
  },
  {
   "cell_type": "code",
   "execution_count": null,
   "metadata": {},
   "outputs": [],
   "source": [
    "# Create an overlay plot that visualizes the two dataframes over a period of one day from the middle of the dataset. \n",
    "# Be sure that the plots include the parameters `legend`, `figsize`, `title`, `color` and `label`\n",
    "#  \n",
    "middle_start_date = \"2018-02-15\"\n",
    "middle_end_date = \"2018-02-15\"\n",
    "title = f\"Closing Prices on {middle_start_date}\"\n",
    "\n",
    "bitstamp_middle_date = bitstamp_sliced.loc[middle_start_date:middle_end_date]\n",
    "bitstamp_middle_date.plot(figsize=(14,7), title=title, color=\"red\", legend=True, label=\"Bitstamp\")\n",
    "\n",
    "coinbase_middle_date = coinbase_sliced.loc[middle_start_date:middle_end_date]\n",
    "coinbase_middle_date.plot(figsize=(14,7), color=\"blue\", legend=True, label=\"Coinbase\")"
   ]
  },
  {
   "cell_type": "code",
   "execution_count": null,
   "metadata": {},
   "outputs": [],
   "source": [
    "# Using the date in the middle that you have selected, calculate the arbitrage spread \n",
    "# by subtracting the bitstamp lower closing prices from the coinbase higher closing prices\n",
    "\n",
    "arbitrage_spread_middle = bitstamp_middle_date - coinbase_middle_date\n",
    "\n",
    "# Generate summary statistics\n",
    "\n",
    "arbitrage_spread_middle.describe()"
   ]
  },
  {
   "cell_type": "code",
   "execution_count": null,
   "metadata": {},
   "outputs": [],
   "source": [
    "# Visualize the arbitrage spread from the middle of the dataset in a box plot\n",
    "\n",
    "title = f\"Arbitrage Spread {middle_start_date}\"\n",
    "arbitrage_spread_middle.plot(kind='box', title=title)"
   ]
  },
  {
   "cell_type": "code",
   "execution_count": null,
   "metadata": {},
   "outputs": [],
   "source": [
    "# Create an overlay plot that visualizes the two dataframes over a period of one day from late in the dataset. \n",
    "# Be sure that the plots include the parameters `legend`, `figsize`, `title`, `color` and `label` \n",
    "\n",
    "late_start_date = \"2018-03-29\"\n",
    "late_end_date = \"2018-03-29\"\n",
    "title = f\"Closing Prices on {late_start_date}\"\n",
    "\n",
    "bitstamp_late_date = bitstamp_sliced.loc[late_start_date:late_end_date]\n",
    "bitstamp_late_date.plot(figsize=(14,7), title=title, color=\"red\", legend=True, label=\"Bitstamp\")\n",
    "\n",
    "coinbase_late_date = coinbase_sliced.loc[late_start_date:late_end_date]\n",
    "coinbase_late_date.plot(figsize=(14,7), color=\"blue\", legend=True, label=\"Coinbase\")"
   ]
  },
  {
   "cell_type": "code",
   "execution_count": null,
   "metadata": {},
   "outputs": [],
   "source": [
    "# Using the date from the late that you have selected, calculate the arbitrage spread \n",
    "# by subtracting the bitstamp lower closing prices from the coinbase higher closing prices\n",
    "\n",
    "arbitrage_spread_late = bitstamp_late_date - coinbase_late_date\n",
    "\n",
    "# Generate summary statistics for the late DataFrame\n",
    "\n",
    "arbitrage_spread_late.describe()"
   ]
  },
  {
   "cell_type": "code",
   "execution_count": null,
   "metadata": {},
   "outputs": [],
   "source": [
    "# Visualize the arbitrage spread from late in the dataset in a box plot\n",
    "\n",
    "title = f\"Arbitrage Spread {late_start_date}\"\n",
    "arbitrage_spread_late.plot(kind='box', title=title)"
   ]
  },
  {
   "cell_type": "markdown",
   "metadata": {},
   "source": [
    "### Step 4: Calculate the Arbitrage Profits\n",
    "\n",
    "Calculate the potential profits for each date that you selected in the previous section. Your goal is to determine whether arbitrage opportunities still exist in the Bitcoin market. Complete the following steps:\n",
    "\n",
    "1. For each of the three dates, measure the arbitrage spread between the two exchanges by subtracting the lower-priced exchange from the higher-priced one. Then use a conditional statement to generate the summary statistics for each arbitrage_spread DataFrame, where the spread is greater than zero.\n",
    "\n",
    "2. For each of the three dates, calculate the spread returns. To do so, divide the instances that have a positive arbitrage spread (that is, a spread greater than zero) by the price of Bitcoin from the exchange you’re buying on (that is, the lower-priced exchange). Review the resulting DataFrame.\n",
    "\n",
    "3. For each of the three dates, narrow down your trading opportunities even further. To do so, determine the number of times your trades with positive returns exceed the 1% minimum threshold that you need to cover your costs.\n",
    "\n",
    "4. Generate the summary statistics of your spread returns that are greater than 1%. How do the average returns compare among the three dates?\n",
    "\n",
    "5. For each of the three dates, calculate the potential profit, in dollars, per trade. To do so, multiply the spread returns that were greater than 1% by the cost of what was purchased. Make sure to drop any missing values from the resulting DataFrame.\n",
    "\n",
    "6. Generate the summary statistics, and plot the results for each of the three DataFrames.\n",
    "\n",
    "7. Calculate the potential arbitrage profits that you can make on each day. To do so, sum the elements in the profit_per_trade DataFrame.\n",
    "\n",
    "8. Using the `cumsum` function, plot the cumulative sum of each of the three DataFrames. Can you identify any patterns or trends in the profits across the three time periods?\n",
    "\n",
    "(NOTE: The starter code displays only one date. You'll want to do this analysis for two additional dates)."
   ]
  },
  {
   "cell_type": "markdown",
   "metadata": {},
   "source": [
    "#### 1. For each of the three dates, measure the arbitrage spread between the two exchanges by subtracting the lower-priced exchange from the higher-priced one. Then use a conditional statement to generate the summary statistics for each arbitrage_spread DataFrame, where the spread is greater than zero.\n",
    "\n",
    "*NOTE*: For illustration, only one of the three dates is shown in the starter code below."
   ]
  },
  {
   "cell_type": "code",
   "execution_count": null,
   "metadata": {},
   "outputs": [],
   "source": [
    "# For the date early in the dataset, measure the arbitrage spread between the two exchanges\n",
    "# by subtracting the lower-priced exchange from the higher-priced one\n",
    "\n",
    "arbitrage_spread_early = coinbase_early_date - bitstamp_early_date\n",
    "\n",
    "# Use a conditional statement to generate the summary statistics for each arbitrage_spread DataFrame\n",
    "\n",
    "print(f\"\\nArbitrage spread on {early_start_date}\")\n",
    "if (coinbase_early_date - bitstamp_early_date).mean() >= 0:\n",
    "    print(\"Coinbase averaged higher than Bitstamp\")\n",
    "    arbitrage_spread_early = coinbase_early_date - bitstamp_early_date\n",
    "else:\n",
    "    print(\"Bitstamp averaged higher than Coinbase\")\n",
    "    arbitrage_spread_early = bitstamp_early_date - coinbase_early_date\n",
    "display(arbitrage_spread_early.describe())\n",
    "\n",
    "print(f\"\\nArbitrage spread on {middle_start_date}\")\n",
    "if (coinbase_middle_date - bitstamp_middle_date).mean() >= 0:\n",
    "    print(\"Coinbase averaged higher than Bitstamp\")\n",
    "    arbitrage_spread_middle = coinbase_middle_date - bitstamp_middle_date\n",
    "else:\n",
    "    print(\"Bitstamp averaged higher than Coinbase\")\n",
    "    arbitrage_spread_early = bitstamp_middle_date - coinbase_middle_date\n",
    "display(arbitrage_spread_middle.describe())\n",
    "\n",
    "print(f\"\\nArbitrage spread on {late_start_date}\")\n",
    "if (coinbase_late_date - bitstamp_late_date).mean() >= 0:\n",
    "    print(\"Coinbase averaged higher than Bitstamp\")\n",
    "    arbitrage_spread_late = coinbase_late_date - bitstamp_late_date\n",
    "else:\n",
    "    print(\"Bitstamp averaged higher than Coinbase\")\n",
    "    arbitrage_spread_late = bitstamp_late_date - coinbase_late_date\n",
    "display(arbitrage_spread_late.describe())\n",
    " "
   ]
  },
  {
   "cell_type": "markdown",
   "metadata": {},
   "source": [
    "#### 2. For each of the three dates, calculate the spread returns. To do so, divide the instances that have a positive arbitrage spread (that is, a spread greater than zero) by the price of Bitcoin from the exchange you’re buying on (that is, the lower-priced exchange). Review the resulting DataFrame."
   ]
  },
  {
   "cell_type": "code",
   "execution_count": null,
   "metadata": {},
   "outputs": [],
   "source": [
    "# For the date early in the dataset, calculate the spread returns by dividing the instances when the arbitrage spread is positive (> 0) \n",
    "# by the price of Bitcoin from the exchange you are buying on (the lower-priced exchange).\n",
    "\n",
    "def calc_arbitrage_percent(df):\n",
    "    if df['Bitstamp'] < df['Coinbase']:\n",
    "        return 100 * df['Spread'] / df['Bitstamp']\n",
    "    elif df['Bitstamp'] > df['Coinbase']:\n",
    "        return 100 * df['Spread'] / df['Coinbase']\n",
    "    else:\n",
    "        return 0.00\n",
    "    \n",
    "spread_return_early = pd.DataFrame(data=[bitstamp_early_date, coinbase_early_date], index=['Bitstamp', 'Coinbase']).T\n",
    "spread_return_early['Spread'] = (spread_return_early['Bitstamp'] - spread_return_early['Coinbase']).abs()\n",
    "spread_return_early['Return %'] = spread_return_early.apply(calc_arbitrage_percent, axis=1)\n",
    "    \n",
    "spread_return_middle = pd.DataFrame(data=[bitstamp_middle_date, coinbase_middle_date], index=['Bitstamp', 'Coinbase']).T\n",
    "spread_return_middle['Spread'] = (spread_return_middle['Bitstamp'] - spread_return_middle['Coinbase']).abs()\n",
    "spread_return_middle['Return %'] = spread_return_middle.apply(calc_arbitrage_percent, axis=1)\n",
    "    \n",
    "spread_return_late = pd.DataFrame(data=[bitstamp_late_date, coinbase_late_date], index=['Bitstamp', 'Coinbase']).T\n",
    "spread_return_late['Spread'] = (spread_return_late['Bitstamp'] - spread_return_late['Coinbase']).abs()\n",
    "spread_return_late['Return %'] = spread_return_late.apply(calc_arbitrage_percent, axis=1)\n",
    "    \n",
    "# Review the spread return DataFrame\n",
    "\n",
    "print(100*'*' + f\"\\nSummary statistics for {early_start_date}\\n\" + 100*'*')\n",
    "display(spread_return_early)\n",
    "\n",
    "print(100*'*' + f\"\\nSummary statistics for {middle_start_date}\\n\" + 100*'*')\n",
    "display(spread_return_middle)\n",
    "\n",
    "print(100*'*' + f\"\\nSummary statistics for {late_start_date}\\n\" + 100*'*')\n",
    "display(spread_return_late)"
   ]
  },
  {
   "cell_type": "markdown",
   "metadata": {},
   "source": [
    "#### 3. For each of the three dates, narrow down your trading opportunities even further. To do so, determine the number of times your trades with positive returns exceed the 1% minimum threshold that you need to cover your costs."
   ]
  },
  {
   "cell_type": "code",
   "execution_count": null,
   "metadata": {},
   "outputs": [],
   "source": [
    "# For the date early in the dataset, determine the number of times your trades with positive returns \n",
    "# exceed the 1% minimum threshold (.01) that you need to cover your costs\n",
    "\n",
    "profitable_trades_early = spread_return_early.loc[spread_return_early['Return %'] > 1].copy()\n",
    "print(f\"{profitable_trades_early['Spread'].count()} profitable trades on {early_start_date}\")\n",
    "\n",
    "profitable_trades_middle = spread_return_middle.loc[spread_return_middle['Return %'] > 1].copy()\n",
    "print(f\"{profitable_trades_middle['Spread'].count()} profitable trades on {middle_start_date}\")\n",
    "\n",
    "profitable_trades_late = spread_return_late.loc[spread_return_late['Return %'] > 1].copy()\n",
    "print(f\"{profitable_trades_late['Spread'].count()} profitable trades on {late_start_date}\")\n",
    "\n",
    "# Review the first five profitable trades\n",
    "\n",
    "display(profitable_trades_early.head())\n",
    "display(profitable_trades_middle.head())\n",
    "display(profitable_trades_late.head())"
   ]
  },
  {
   "cell_type": "markdown",
   "metadata": {},
   "source": [
    "#### 4. Generate the summary statistics of your spread returns that are greater than 1%. How do the average returns compare among the three dates?"
   ]
  },
  {
   "cell_type": "code",
   "execution_count": null,
   "metadata": {},
   "outputs": [],
   "source": [
    "# For the date early in the dataset, generate the summary statistics for the profitable trades\n",
    "# or you trades where the spread returns are are greater than 1%\n",
    "\n",
    "display(spread_return_early.describe())\n",
    "display(spread_return_middle.describe())\n",
    "display(spread_return_late.describe())"
   ]
  },
  {
   "cell_type": "markdown",
   "metadata": {},
   "source": [
    "#### 5. For each of the three dates, calculate the potential profit, in dollars, per trade. To do so, multiply the spread returns that were greater than 1% by the cost of what was purchased. Make sure to drop any missing values from the resulting DataFrame."
   ]
  },
  {
   "cell_type": "code",
   "execution_count": null,
   "metadata": {},
   "outputs": [],
   "source": [
    "# For the date early in the dataset, calculate the potential profit per trade in dollars \n",
    "# Multiply the profitable trades by the cost of the Bitcoin that was purchased\n",
    "\n",
    "def calc_arbitrage_profit(df):\n",
    "    if df['Bitstamp'] < df['Coinbase']:\n",
    "        return df['Return %'] * df['Bitstamp'] / 100\n",
    "    elif df['Bitstamp'] > df['Coinbase']:\n",
    "        return df['Return %'] * df['Coinbase'] / 100\n",
    "    else:\n",
    "        return 0.00\n",
    "\n",
    "profit_early = profitable_trades_early.apply(calc_arbitrage_profit, axis=1)\n",
    "profit_middle = profitable_trades_middle.apply(calc_arbitrage_profit, axis=1)\n",
    "profit_late = profitable_trades_late.apply(calc_arbitrage_profit, axis=1)\n",
    "\n",
    "# Drop any missing values from the profit DataFrame\n",
    "\n",
    "profit_early.dropna()\n",
    "profit_middle.dropna()\n",
    "profit_late.dropna()\n",
    "\n",
    "# View the early profit DataFrame\n",
    "\n",
    "print(100*'*'+f\"\\nArbitrage profits on {early_start_date} \\n\")\n",
    "if profitable_trades_early['Spread'].count() > 0:\n",
    "    display(profit_early)\n",
    "else:\n",
    "    print(\"No profitable trades.\")\n",
    "\n",
    "# View the middle profit DataFrame\n",
    "\n",
    "print(100*'*'+f\"\\nArbitrage profits on {middle_start_date} \\n\")\n",
    "if profitable_trades_middle['Spread'].count() > 0:\n",
    "    display(profit_middle)\n",
    "else:\n",
    "    print(\"No profitable trades.\")\n",
    "\n",
    "# View the late profit DataFrame\n",
    "\n",
    "print(100*'*'+f\"\\nArbitrage profits on {late_start_date} \\n\")\n",
    "if profitable_trades_late['Spread'].count() > 0:\n",
    "    display(profit_late)\n",
    "else:\n",
    "    print(\"No profitable trades.\")"
   ]
  },
  {
   "cell_type": "markdown",
   "metadata": {},
   "source": [
    "#### 6. Generate the summary statistics, and plot the results for each of the three DataFrames."
   ]
  },
  {
   "cell_type": "code",
   "execution_count": null,
   "metadata": {},
   "outputs": [],
   "source": [
    "# Generate the summary statistics for the early profit per trade DataFrame\n",
    "\n",
    "print(100*'*'+f\"\\nProfit statistics from {early_start_date} \\n\")\n",
    "if profitable_trades_early['Spread'].count() > 0:\n",
    "    display(profit_early.describe())\n",
    "else:\n",
    "    print(\"No profitable trades.\")\n",
    "\n",
    "# Generate the summary statistics for the middle profit per trade DataFrame\n",
    "\n",
    "print(100*'*'+f\"\\nProfit statistics from {middle_start_date} \\n\")\n",
    "if profitable_trades_middle['Spread'].count() > 0:\n",
    "    display(profit_middle.describe())\n",
    "else:\n",
    "    print(\"No profitable trades.\")\n",
    "\n",
    "# Generate the summary statistics for the late profit per trade DataFrame\n",
    "\n",
    "print(100*'*'+f\"\\nProfit statistics from {late_start_date} \\n\")\n",
    "if profitable_trades_late['Spread'].count() > 0:\n",
    "    display(profit_late.describe())\n",
    "else:\n",
    "    print(\"No profitable trades.\")"
   ]
  },
  {
   "cell_type": "code",
   "execution_count": null,
   "metadata": {},
   "outputs": [],
   "source": [
    "# Plot the results for the early profit per trade DataFrame\n",
    "\n",
    "if profitable_trades_early['Spread'].count() > 0:\n",
    "    title = f\"Profits on {early_start_date}\"\n",
    "    profit_early.plot(figsize=(14,7), title=title, legend=True, label=f\"{early_start_date}\")"
   ]
  },
  {
   "cell_type": "code",
   "execution_count": null,
   "metadata": {},
   "outputs": [],
   "source": [
    "# Plot the results for the middle profit per trade DataFrame\n",
    "\n",
    "if profitable_trades_middle['Spread'].count() > 0:\n",
    "    title = f\"Profits on {middle_start_date}\"\n",
    "    profit_middle.plot(figsize=(14,7), title=title, legend=True, label=f\"{middle_start_date}\")\n",
    "else:\n",
    "    print(f\"No profitable trades to plot!\")"
   ]
  },
  {
   "cell_type": "code",
   "execution_count": null,
   "metadata": {},
   "outputs": [],
   "source": [
    "# Plot the results for the late profit per trade DataFrame\n",
    "\n",
    "display(profitable_trades_late)\n",
    "if profitable_trades_late['Spread'].count() > 0:\n",
    "    title = f\"Profits on {late_start_date}\"\n",
    "    profit_late.plot(kind='bar', figsize=(14,7), title=title, rot=30)\n",
    "else:\n",
    "    print(f\"No profitable trades to plot!\")"
   ]
  },
  {
   "cell_type": "markdown",
   "metadata": {},
   "source": [
    "#### 7. Calculate the potential arbitrage profits that you can make on each day. To do so, sum the elements in the profit_per_trade DataFrame."
   ]
  },
  {
   "cell_type": "code",
   "execution_count": null,
   "metadata": {},
   "outputs": [],
   "source": [
    "# Calculate the sum of the potential profits for the early profit per trade DataFrame\n",
    "\n",
    "print(f'Total profit on {early_start_date}: ${profit_early.sum():,.2f}')"
   ]
  },
  {
   "cell_type": "markdown",
   "metadata": {},
   "source": [
    "#### 8. Using the `cumsum` function, plot the cumulative sum of each of the three DataFrames. Can you identify any patterns or trends in the profits across the three time periods?"
   ]
  },
  {
   "cell_type": "code",
   "execution_count": null,
   "metadata": {},
   "outputs": [],
   "source": [
    "# Use the cumsum function to calculate the cumulative profits over time for the early profit per trade DataFrame\n",
    "\n",
    "cumulative_profit_early = np.cumsum(profit_early)\n",
    "display(cumulative_profit_early)\n",
    "\n",
    "# Use the cumsum function to calculate the cumulative profits over time for the middle profit per trade DataFrame\n",
    "\n",
    "cumulative_profit_middle = np.cumsum(profit_middle)\n",
    "display(cumulative_profit_middle)\n",
    "\n",
    "# Use the cumsum function to calculate the cumulative profits over time for the late profit per trade DataFrame\n",
    "\n",
    "cumulative_profit_late = np.cumsum(profit_late)\n",
    "display(cumulative_profit_late)"
   ]
  },
  {
   "cell_type": "code",
   "execution_count": null,
   "metadata": {},
   "outputs": [],
   "source": [
    "# Plot the cumulative sum of profits for the early profit per trade DataFrame\n",
    "\n",
    "if profitable_trades_early['Spread'].count() > 0:\n",
    "    cumulative_profit_early.plot(figsize=(14,7), title=f\"Cumulative profits on {early_start_date}\")\n",
    "else:\n",
    "    print(f\"No profitable trades on {early_start_date}\")"
   ]
  },
  {
   "cell_type": "code",
   "execution_count": null,
   "metadata": {},
   "outputs": [],
   "source": [
    "# Plot the cumulative sum of profits for the middle profit per trade DataFrame\n",
    "\n",
    "if profitable_trades_middle['Spread'].count() > 0:\n",
    "    cumulative_profit_middle.plot(figsize=(14,7), title=f\"Cumulative profits on {middle_start_date}\")\n",
    "else:\n",
    "    print(f\"No profitable trades on {middle_start_date}\")"
   ]
  },
  {
   "cell_type": "code",
   "execution_count": null,
   "metadata": {},
   "outputs": [],
   "source": [
    "# Plot the cumulative sum of profits for the late profit per trade DataFrame\n",
    "\n",
    "if profitable_trades_late['Spread'].count() > 0:\n",
    "    cumulative_profit_late.plot(kind='bar', figsize=(14,7), title=f\"Cumulative profits on {late_start_date}\", rot=30)\n",
    "else:\n",
    "    print(f\"No profitable trades on {late_start_date}\")"
   ]
  },
  {
   "cell_type": "markdown",
   "metadata": {},
   "source": [
    "**Question:** After reviewing the profit information across each date from the different time periods, can you identify any patterns or trends?\n",
    "    \n",
    "**Answer:** After reviewing the profit information across each date from the different time periods, the data reveals greater abitrage opportunities at the beginning of the data cyle in comparison to the end.  Despite the volatility, a gradual decrease in overall arbitrage opportunities is shown over time."
   ]
  }
 ],
 "metadata": {
  "kernelspec": {
   "display_name": "Python 3 (ipykernel)",
   "language": "python",
   "name": "python3"
  },
  "language_info": {
   "codemirror_mode": {
    "name": "ipython",
    "version": 3
   },
   "file_extension": ".py",
   "mimetype": "text/x-python",
   "name": "python",
   "nbconvert_exporter": "python",
   "pygments_lexer": "ipython3",
   "version": "3.8.9"
  }
 },
 "nbformat": 4,
 "nbformat_minor": 4
}
